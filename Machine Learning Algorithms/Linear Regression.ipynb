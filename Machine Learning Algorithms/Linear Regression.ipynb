{
 "cells": [
  {
   "cell_type": "code",
   "execution_count": null,
   "id": "9bbe72d3",
   "metadata": {},
   "outputs": [],
   "source": [
    "import numpy as np\n",
    "from sklearn import datasets\n",
    "from sklearn.model_selection import train_test_split\n",
    "import matplotlib.pyplot as plt"
   ]
  },
  {
   "cell_type": "markdown",
   "id": "26092d66",
   "metadata": {},
   "source": [
    "# Linear Regression\n",
    "A foundational algorithm in data science, plays a pivotal role in predicting continuous outcomes. It predicts the relationship between two variables by assuming a **linear connection** between the **independent** and **dependent variables**. It seeks the optimal line that minimizes the sum of squared differences between predicted and actual values. Applied in various domains like economics and finance, this method analyzes and forecasts data trends. It can extend to multiple linear regression involving several independent variables and logistic regression, suitable for binary classification problems.\n",
    "\n",
    "Any ML models follow this work flow:<br>\n",
    "Data --> Model --> Cost function (J) --> Optimization of J\n",
    "\n",
    "## Simple Linear Regression\n",
    "In a simple linear regression, there is **one independent variable (x)** and **one dependent variable (y)**. The model estimates the **slope** and **intercept** of the line of best fit, which represents the relationship between the variables. The slope represents the change in the dependent variable for each unit change in the independent variable, while the intercept represents the predicted value of the dependent variable when the independent variable is zero.\n",
    "\n",
    "**MODEL**<br>\n",
    "To claculate the best-fit line, linear regression uses the traditional **slope-intercept** form of a line:<br>\n",
    "**`Y = W*X + b`**<br>\n",
    "where Y = Dependent variable, X = Independent variable, W = Slope, b = constant/Intercept.\n",
    "\n",
    "!()[\"Images/LR1.jpg\"]\n",
    "\n",
    "**COST FUNCTION (J)**<br>\n",
    "The goal of the linear regression algorithm is to get the best values for B0 and B1 to find the best fit line. The best fit line is a line that has the least error which means the error between predicted values and actual values should be minimum.\n",
    "\n",
    "**1. Random Error :-** In regression, the difference between the observed value of the dependent variable(yi) and the predicted value(predicted) is called the **residuals** or **random error**.<br>\n",
    "**`error = Ypredicted - Yi`**<br>\n",
    "Where Ypredicted = W*X + b.<br>\n",
    "The best fit line is a line that fits the given scatter plot in the best way. Mathematically, the best fit line is obtained by minimizing the Residual Sum of Squares(RSS).\n",
    "\n",
    "The Cost Function helps to work out the optimal values for **W** and **b**, which provides the best fit line for the data points.<br>\n",
    "**NOTE -->** The cost function should be **continuous, differentiable** and **convex** in nature.<br>\n",
    "In linear regression, Mean Squared Error (MSE) is used which is the average of squared error that occurred between the Ypredicted and Yi.\n",
    "!()[\"Images/LR2.png\"]\n",
    "\n",
    "**GRADIENT DESCENT**<br>\n",
    "Gradient Descent is one of the optimization algorithms that optimize the cost function to reach the **optimal minimal solution**. To find the optimum solution we need to reduce the cost function(MSE) for all data points. This is done by updating the values of W and b iteratively until we get an optimal solution.<br>\n",
    "A regression model optimizes the gradient descent algorithm to update the coefficients of the line by reducing the cost function by randomly selecting coefficient values and then iteratively updating the values to reach the minimum cost function.<br>\n",
    "!()[\"Images/LR3.jpeg\"]\n",
    "As our cost function is a convex function, it should have one global minima and to reach there we need to take some steps. Now if we take small steps it will take a lot of time to reach at the minima and if we take larger steps we will reach to the bottom sooner but there is a probability that we might overshoot. So in ML these steps are called as **Learning Rate** and this decides how fast the algorithm converges to the minima.\n",
    "!()[\"Images/LR4.jpeg\"]\n",
    "Mathematically, we can reach the minima by derivating the equation and equating it with zero **(slope/gradient = 0)**. So we have to derivate the equation with respect to our parameters (W and b) so as to update the values of W and b.<br>\n",
    "\n",
    "**Derivation of Gradient Descent**<br>\n",
    "We will take gradient of cost funtion (J) by partial derivatives w.r.t W and b.\n",
    "!()[\"Images/LR5.png\"]\n",
    "Here the partial derivates are the gradients, and they are used to update the values of W and b. Alpha is the learning rate.\n",
    "\n",
    "### Evaluation Metrics for Linear Regression\n",
    "The strength of any linear regression model can be assessed using various evaluation metrics. These evaluation metrics usually provide a measure of how well the observed outputs are being generated by the model.\n",
    "\n",
    "**1. Coefficient of Determination or R-squared (R2)**<br>\n",
    "R-Squared is a number that explains the amount of variation that is explained/captured by the developed model. It always ranges between 0 & 1 . Overall, the higher the value of R-squared, the better the model fits the data.\n",
    "!()[\"Images/LR6.png\"]\n",
    "**Residual sum of Squares (RSS)** is defined as the sum of squares of the residual for each data point in the plot/data. It is the measure of the difference between the expected and the actual observed output.\n",
    "\n",
    "**Total Sum of Squares (TSS)** is defined as the sum of errors of the data points from the mean of the response variable.\n",
    "\n",
    "The significance of R-squared is shown by the following figures,\n",
    "!()[\"Images/LR7.jpeg\"]\n",
    "\n",
    "**2. Root Mean Squared Error (RMSE) and Residual Standard Error (RSE)**<br>\n",
    "The Root Mean Squared Error is the square root of the variance of the residuals. It specifies the absolute fit of the model to the data i.e. how close the observed data points are to the predicted values. Mathematically it can be represented as,\n",
    "!()[\"Images/LR8.png\"]\n",
    "To make this estimate unbiased, one has to divide the sum of the squared residuals by the degrees of freedom rather than the total number of data points in the model. This term is then called the Residual Standard Error(RSE). Mathematically it can be represented as,\n",
    "!()[\"Images/LR9.png\"]\n",
    "R-squared is a better measure than RSME. Because the value of Root Mean Squared Error depends on the units of the variables (i.e. it is not a normalized measure), it can change with the change in the unit of the variables."
   ]
  },
  {
   "cell_type": "code",
   "execution_count": 2,
   "id": "708c7158",
   "metadata": {},
   "outputs": [
    {
     "data": {
      "image/png": "[encoded data removed]",
      "text/plain": [
       "<Figure size 576x432 with 1 Axes>"
      ]
     },
     "metadata": {
      "needs_background": "light"
     },
     "output_type": "display_data"
    }
   ],
   "source": [
    "X,y = datasets.make_regression(n_samples=100, n_features=1, noise=20, random_state=4)\n",
    "X_train, X_test ,y_train, y_test = train_test_split(X, y, test_size=0.2, random_state=1234)\n",
    "\n",
    "fig = plt.figure(figsize=(8,6))\n",
    "plt.scatter(X[:,0], y, color=\"b\", marker=\"o\", s=30)\n",
    "plt.show()"
   ]
  },
  {
   "cell_type": "code",
   "execution_count": 3,
   "id": "42b8fb2d",
   "metadata": {},
   "outputs": [],
   "source": [
    "class LinearRegression() : \n",
    "    def __init__(self, lr = 0.002, n_iters = 1000):\n",
    "        self.lr = lr\n",
    "        self.n_iters = n_iters\n",
    "        self.weights = None\n",
    "        self.bias = None\n",
    "        \n",
    "    def fit(self, X, y):\n",
    "        n_samples, n_features = X.shape\n",
    "        self.weights = np.zeros(n_features)\n",
    "        self.bias = 0\n",
    "        \n",
    "        for _ in range(self.n_iters):\n",
    "            y_pred = np.dot(X, self.weights) + self.bias\n",
    "\n",
    "            dw = (1/n_samples) * np.dot(X.T, (y_pred - y))\n",
    "            db = (1/n_samples) * np.sum(y_pred - y)\n",
    "\n",
    "            self.weights = self.weights - self.lr * dw\n",
    "            self.bias = self.bias - self.lr * db\n",
    "\n",
    "        \n",
    "    def predict(self, X):\n",
    "        y_pred = np.dot(X, self.weights) + self.bias\n",
    "        return y_pred\n",
    "        "
   ]
  },
  {
   "cell_type": "code",
   "execution_count": 4,
   "id": "26abf021",
   "metadata": {},
   "outputs": [
    {
     "name": "stdout",
     "output_type": "stream",
     "text": [
      "[ 78.54854917  56.97250724 -39.30562456 -71.24576345  18.53386866\n",
      " -63.80986358 -12.58373962 132.00003755  12.52558037 -88.43591013\n",
      "  13.87211111  36.47176313  23.10319338  33.44825999  32.80796982\n",
      " -32.06918773 -71.79709658  23.19090486  33.45744187  25.92418174]\n"
     ]
    }
   ],
   "source": [
    "reg = LinearRegression()\n",
    "reg.fit(X_train, y_train)\n",
    "pred = reg.predict(X_test)\n",
    "print(pred)"
   ]
  },
  {
   "cell_type": "code",
   "execution_count": 5,
   "id": "5efcb3be",
   "metadata": {},
   "outputs": [
    {
     "name": "stdout",
     "output_type": "stream",
     "text": [
      "361.2812896055198\n"
     ]
    }
   ],
   "source": [
    "mse = np.mean((y_test - pred)**2)\n",
    "print(mse)"
   ]
  },
  {
   "cell_type": "code",
   "execution_count": 6,
   "id": "0479deb4",
   "metadata": {},
   "outputs": [
    {
     "data": {
      "image/png": "[encoded data removed]",
      "text/plain": [
       "<Figure size 576x432 with 1 Axes>"
      ]
     },
     "metadata": {
      "needs_background": "light"
     },
     "output_type": "display_data"
    }
   ],
   "source": [
    "y_pred_line = reg.predict(X)\n",
    "cmap = plt.get_cmap('viridis')\n",
    "fig = plt.figure(figsize=(8,6))\n",
    "m1 = plt.scatter(X_train, y_train, color=cmap(0.9), s=10)\n",
    "m2 = plt.scatter(X_test, y_test, color=cmap(0.5), s=10)\n",
    "plt.plot(X, y_pred_line, color='black', linewidth=2, label='Prediction')\n",
    "plt.show()"
   ]
  },
  {
   "cell_type": "code",
   "execution_count": null,
   "id": "e7d7a316",
   "metadata": {},
   "outputs": [],
   "source": []
  }
 ],
 "metadata": {
  "kernelspec": {
   "display_name": "Python 3 (ipykernel)",
   "language": "python",
   "name": "python3"
  },
  "language_info": {
   "codemirror_mode": {
    "name": "ipython",
    "version": 3
   },
   "file_extension": ".py",
   "mimetype": "text/x-python",
   "name": "python",
   "nbconvert_exporter": "python",
   "pygments_lexer": "ipython3",
   "version": "3.9.7"
  }
 },
 "nbformat": 4,
 "nbformat_minor": 5
}
