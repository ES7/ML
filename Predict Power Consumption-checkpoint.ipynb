{
 "cells": [
  {
   "cell_type": "markdown",
   "id": "32242649",
   "metadata": {},
   "source": [
    "# Problem Statement"
   ]
  },
  {
   "cell_type": "markdown",
   "id": "1f97fdbb",
   "metadata": {},
   "source": [
    "Predict Tetouan Electric Power Consumption in Zone 1, Zone 2 and Zone 3 by performing exploratory data analysis, create a training-validation split, and prepare the data for modeling. Train & evaluate different machine learning models, tune hyperparameters and reduce overfitting to improve the model. Report the final best model and summarize your work."
   ]
  },
  {
   "cell_type": "markdown",
   "id": "12aed605",
   "metadata": {},
   "source": [
    "# Dataset"
   ]
  },
  {
   "cell_type": "markdown",
   "id": "9f514c21",
   "metadata": {},
   "source": [
    "Tetouan is a city located in the north of Morocco which occupies an area of around 10375 km² and its population is about 550.374 inhabitants, according to the last Census of 2014, and is increasing rapidly, approximately 1.96% annually. Since it is located along the Mediterranean Sea, its weather is mild and rainy in the winter, hot and dry during the summer months. With the electricity consumption being so crucial to the country, the idea is to study the impact on energy consumption. The dataset is exhaustive in its demonstration of energy consumption of the Tétouan city in Morocco. The distribution network is powered by 3 Zone stations, namely: Quads, Smir and Boussafou."
   ]
  },
  {
   "cell_type": "markdown",
   "id": "8cdb8966",
   "metadata": {},
   "source": [
    "# Downloading the Data"
   ]
  },
  {
   "cell_type": "markdown",
   "id": "81655a26",
   "metadata": {},
   "source": [
    "We'll use the opendatasets library to download the data from Kaggle directly within Jupyter. Let's install and import opendatasets."
   ]
  },
  {
   "cell_type": "code",
   "execution_count": 1,
   "id": "472b5add",
   "metadata": {},
   "outputs": [],
   "source": [
    "!pip install opendatasets --upgrade --quiet\n",
    "import opendatasets as od"
   ]
  },
  {
   "cell_type": "code",
   "execution_count": 2,
   "id": "eb77221a",
   "metadata": {},
   "outputs": [],
   "source": [
    "dataset_url = 'https://www.kaggle.com/datasets/fedesoriano/electric-power-consumption'"
   ]
  },
  {
   "cell_type": "markdown",
   "id": "929cbfc6",
   "metadata": {},
   "source": [
    "The dataset can now be downloaded using od.download. When you execute od.download, we will be asked to provide our Kaggle username and API key."
   ]
  },
  {
   "cell_type": "code",
   "execution_count": 3,
   "id": "bbceab02",
   "metadata": {},
   "outputs": [
    {
     "name": "stdout",
     "output_type": "stream",
     "text": [
      "Skipping, found downloaded files in \".\\electric-power-consumption\" (use force=True to force download)\n"
     ]
    }
   ],
   "source": [
    "od.download(dataset_url)"
   ]
  },
  {
   "cell_type": "code",
   "execution_count": 4,
   "id": "54ec28ee",
   "metadata": {},
   "outputs": [],
   "source": [
    "import os"
   ]
  },
  {
   "cell_type": "code",
   "execution_count": 5,
   "id": "443f1771",
   "metadata": {},
   "outputs": [
    {
     "data": {
      "text/plain": [
       "['powerconsumption.csv']"
      ]
     },
     "execution_count": 5,
     "metadata": {},
     "output_type": "execute_result"
    }
   ],
   "source": [
    "data_dir = './electric-power-consumption'\n",
    "os.listdir(data_dir)"
   ]
  },
  {
   "cell_type": "code",
   "execution_count": 6,
   "id": "912a18b0",
   "metadata": {},
   "outputs": [],
   "source": [
    "train_csv = data_dir + '/powerconsumption.csv'"
   ]
  },
  {
   "cell_type": "markdown",
   "id": "884cea34",
   "metadata": {},
   "source": [
    "We can create a Pandas dataframe using the downloaded file, to view and analyze the data."
   ]
  },
  {
   "cell_type": "code",
   "execution_count": 7,
   "id": "7ebd5e24",
   "metadata": {},
   "outputs": [],
   "source": [
    "import pandas as pd"
   ]
  },
  {
   "cell_type": "code",
   "execution_count": 8,
   "id": "7ab286fb",
   "metadata": {},
   "outputs": [
    {
     "data": {
      "text/html": [
       "<div>\n",
       "<style scoped>\n",
       "    .dataframe tbody tr th:only-of-type {\n",
       "        vertical-align: middle;\n",
       "    }\n",
       "\n",
       "    .dataframe tbody tr th {\n",
       "        vertical-align: top;\n",
       "    }\n",
       "\n",
       "    .dataframe thead th {\n",
       "        text-align: right;\n",
       "    }\n",
       "</style>\n",
       "<table border=\"1\" class=\"dataframe\">\n",
       "  <thead>\n",
       "    <tr style=\"text-align: right;\">\n",
       "      <th></th>\n",
       "      <th>Datetime</th>\n",
       "      <th>Temperature</th>\n",
       "      <th>Humidity</th>\n",
       "      <th>WindSpeed</th>\n",
       "      <th>GeneralDiffuseFlows</th>\n",
       "      <th>DiffuseFlows</th>\n",
       "      <th>PowerConsumption_Zone1</th>\n",
       "      <th>PowerConsumption_Zone2</th>\n",
       "      <th>PowerConsumption_Zone3</th>\n",
       "    </tr>\n",
       "  </thead>\n",
       "  <tbody>\n",
       "    <tr>\n",
       "      <th>0</th>\n",
       "      <td>1/1/2017 0:00</td>\n",
       "      <td>6.559</td>\n",
       "      <td>73.8</td>\n",
       "      <td>0.083</td>\n",
       "      <td>0.051</td>\n",
       "      <td>0.119</td>\n",
       "      <td>34055.69620</td>\n",
       "      <td>16128.87538</td>\n",
       "      <td>20240.96386</td>\n",
       "    </tr>\n",
       "    <tr>\n",
       "      <th>1</th>\n",
       "      <td>1/1/2017 0:10</td>\n",
       "      <td>6.414</td>\n",
       "      <td>74.5</td>\n",
       "      <td>0.083</td>\n",
       "      <td>0.070</td>\n",
       "      <td>0.085</td>\n",
       "      <td>29814.68354</td>\n",
       "      <td>19375.07599</td>\n",
       "      <td>20131.08434</td>\n",
       "    </tr>\n",
       "    <tr>\n",
       "      <th>2</th>\n",
       "      <td>1/1/2017 0:20</td>\n",
       "      <td>6.313</td>\n",
       "      <td>74.5</td>\n",
       "      <td>0.080</td>\n",
       "      <td>0.062</td>\n",
       "      <td>0.100</td>\n",
       "      <td>29128.10127</td>\n",
       "      <td>19006.68693</td>\n",
       "      <td>19668.43373</td>\n",
       "    </tr>\n",
       "    <tr>\n",
       "      <th>3</th>\n",
       "      <td>1/1/2017 0:30</td>\n",
       "      <td>6.121</td>\n",
       "      <td>75.0</td>\n",
       "      <td>0.083</td>\n",
       "      <td>0.091</td>\n",
       "      <td>0.096</td>\n",
       "      <td>28228.86076</td>\n",
       "      <td>18361.09422</td>\n",
       "      <td>18899.27711</td>\n",
       "    </tr>\n",
       "    <tr>\n",
       "      <th>4</th>\n",
       "      <td>1/1/2017 0:40</td>\n",
       "      <td>5.921</td>\n",
       "      <td>75.7</td>\n",
       "      <td>0.081</td>\n",
       "      <td>0.048</td>\n",
       "      <td>0.085</td>\n",
       "      <td>27335.69620</td>\n",
       "      <td>17872.34043</td>\n",
       "      <td>18442.40964</td>\n",
       "    </tr>\n",
       "    <tr>\n",
       "      <th>...</th>\n",
       "      <td>...</td>\n",
       "      <td>...</td>\n",
       "      <td>...</td>\n",
       "      <td>...</td>\n",
       "      <td>...</td>\n",
       "      <td>...</td>\n",
       "      <td>...</td>\n",
       "      <td>...</td>\n",
       "      <td>...</td>\n",
       "    </tr>\n",
       "    <tr>\n",
       "      <th>52411</th>\n",
       "      <td>12/30/2017 23:10</td>\n",
       "      <td>7.010</td>\n",
       "      <td>72.4</td>\n",
       "      <td>0.080</td>\n",
       "      <td>0.040</td>\n",
       "      <td>0.096</td>\n",
       "      <td>31160.45627</td>\n",
       "      <td>26857.31820</td>\n",
       "      <td>14780.31212</td>\n",
       "    </tr>\n",
       "    <tr>\n",
       "      <th>52412</th>\n",
       "      <td>12/30/2017 23:20</td>\n",
       "      <td>6.947</td>\n",
       "      <td>72.6</td>\n",
       "      <td>0.082</td>\n",
       "      <td>0.051</td>\n",
       "      <td>0.093</td>\n",
       "      <td>30430.41825</td>\n",
       "      <td>26124.57809</td>\n",
       "      <td>14428.81152</td>\n",
       "    </tr>\n",
       "    <tr>\n",
       "      <th>52413</th>\n",
       "      <td>12/30/2017 23:30</td>\n",
       "      <td>6.900</td>\n",
       "      <td>72.8</td>\n",
       "      <td>0.086</td>\n",
       "      <td>0.084</td>\n",
       "      <td>0.074</td>\n",
       "      <td>29590.87452</td>\n",
       "      <td>25277.69254</td>\n",
       "      <td>13806.48259</td>\n",
       "    </tr>\n",
       "    <tr>\n",
       "      <th>52414</th>\n",
       "      <td>12/30/2017 23:40</td>\n",
       "      <td>6.758</td>\n",
       "      <td>73.0</td>\n",
       "      <td>0.080</td>\n",
       "      <td>0.066</td>\n",
       "      <td>0.089</td>\n",
       "      <td>28958.17490</td>\n",
       "      <td>24692.23688</td>\n",
       "      <td>13512.60504</td>\n",
       "    </tr>\n",
       "    <tr>\n",
       "      <th>52415</th>\n",
       "      <td>12/30/2017 23:50</td>\n",
       "      <td>6.580</td>\n",
       "      <td>74.1</td>\n",
       "      <td>0.081</td>\n",
       "      <td>0.062</td>\n",
       "      <td>0.111</td>\n",
       "      <td>28349.80989</td>\n",
       "      <td>24055.23167</td>\n",
       "      <td>13345.49820</td>\n",
       "    </tr>\n",
       "  </tbody>\n",
       "</table>\n",
       "<p>52416 rows × 9 columns</p>\n",
       "</div>"
      ],
      "text/plain": [
       "               Datetime  Temperature  Humidity  WindSpeed  \\\n",
       "0         1/1/2017 0:00        6.559      73.8      0.083   \n",
       "1         1/1/2017 0:10        6.414      74.5      0.083   \n",
       "2         1/1/2017 0:20        6.313      74.5      0.080   \n",
       "3         1/1/2017 0:30        6.121      75.0      0.083   \n",
       "4         1/1/2017 0:40        5.921      75.7      0.081   \n",
       "...                 ...          ...       ...        ...   \n",
       "52411  12/30/2017 23:10        7.010      72.4      0.080   \n",
       "52412  12/30/2017 23:20        6.947      72.6      0.082   \n",
       "52413  12/30/2017 23:30        6.900      72.8      0.086   \n",
       "52414  12/30/2017 23:40        6.758      73.0      0.080   \n",
       "52415  12/30/2017 23:50        6.580      74.1      0.081   \n",
       "\n",
       "       GeneralDiffuseFlows  DiffuseFlows  PowerConsumption_Zone1  \\\n",
       "0                    0.051         0.119             34055.69620   \n",
       "1                    0.070         0.085             29814.68354   \n",
       "2                    0.062         0.100             29128.10127   \n",
       "3                    0.091         0.096             28228.86076   \n",
       "4                    0.048         0.085             27335.69620   \n",
       "...                    ...           ...                     ...   \n",
       "52411                0.040         0.096             31160.45627   \n",
       "52412                0.051         0.093             30430.41825   \n",
       "52413                0.084         0.074             29590.87452   \n",
       "52414                0.066         0.089             28958.17490   \n",
       "52415                0.062         0.111             28349.80989   \n",
       "\n",
       "       PowerConsumption_Zone2  PowerConsumption_Zone3  \n",
       "0                 16128.87538             20240.96386  \n",
       "1                 19375.07599             20131.08434  \n",
       "2                 19006.68693             19668.43373  \n",
       "3                 18361.09422             18899.27711  \n",
       "4                 17872.34043             18442.40964  \n",
       "...                       ...                     ...  \n",
       "52411             26857.31820             14780.31212  \n",
       "52412             26124.57809             14428.81152  \n",
       "52413             25277.69254             13806.48259  \n",
       "52414             24692.23688             13512.60504  \n",
       "52415             24055.23167             13345.49820  \n",
       "\n",
       "[52416 rows x 9 columns]"
      ]
     },
     "execution_count": 8,
     "metadata": {},
     "output_type": "execute_result"
    }
   ],
   "source": [
    "raw_df = pd.read_csv(train_csv)\n",
    "raw_df"
   ]
  },
  {
   "cell_type": "markdown",
   "id": "c1726339",
   "metadata": {},
   "source": [
    "The dataset contains 52416 rows and 9 columns, each row contains information about power consumption on that particular day"
   ]
  },
  {
   "cell_type": "code",
   "execution_count": 9,
   "id": "2b4a0b13",
   "metadata": {},
   "outputs": [
    {
     "name": "stdout",
     "output_type": "stream",
     "text": [
      "<class 'pandas.core.frame.DataFrame'>\n",
      "RangeIndex: 52416 entries, 0 to 52415\n",
      "Data columns (total 9 columns):\n",
      " #   Column                  Non-Null Count  Dtype  \n",
      "---  ------                  --------------  -----  \n",
      " 0   Datetime                52416 non-null  object \n",
      " 1   Temperature             52416 non-null  float64\n",
      " 2   Humidity                52416 non-null  float64\n",
      " 3   WindSpeed               52416 non-null  float64\n",
      " 4   GeneralDiffuseFlows     52416 non-null  float64\n",
      " 5   DiffuseFlows            52416 non-null  float64\n",
      " 6   PowerConsumption_Zone1  52416 non-null  float64\n",
      " 7   PowerConsumption_Zone2  52416 non-null  float64\n",
      " 8   PowerConsumption_Zone3  52416 non-null  float64\n",
      "dtypes: float64(8), object(1)\n",
      "memory usage: 3.6+ MB\n"
     ]
    }
   ],
   "source": [
    "raw_df.info()"
   ]
  },
  {
   "cell_type": "markdown",
   "id": "0a67979f",
   "metadata": {},
   "source": [
    "All cells in dataset is a non-zero value. Using train test split function we will divide data into three categories each for training, validation and testing"
   ]
  },
  {
   "cell_type": "code",
   "execution_count": 10,
   "id": "9171f626",
   "metadata": {},
   "outputs": [],
   "source": [
    "from sklearn.model_selection import train_test_split\n",
    "train_val_df, test_df = train_test_split(raw_df, test_size=0.2, random_state=42)\n",
    "train_df, val_df = train_test_split(train_val_df, test_size=0.25, random_state=42)"
   ]
  },
  {
   "cell_type": "code",
   "execution_count": 11,
   "id": "7139f5c2",
   "metadata": {},
   "outputs": [
    {
     "name": "stdout",
     "output_type": "stream",
     "text": [
      "train_df.shape : (31449, 9)\n",
      "val_df.shape : (10483, 9)\n",
      "test_df.shape : (10484, 9)\n"
     ]
    }
   ],
   "source": [
    "print('train_df.shape :', train_df.shape)\n",
    "print('val_df.shape :', val_df.shape)\n",
    "print('test_df.shape :', test_df.shape)"
   ]
  },
  {
   "cell_type": "markdown",
   "id": "98b52a29",
   "metadata": {},
   "source": [
    "Saving our work before continuing."
   ]
  },
  {
   "cell_type": "code",
   "execution_count": 12,
   "id": "d9e0d38f",
   "metadata": {},
   "outputs": [
    {
     "data": {
      "application/javascript": [
       "window.require && require([\"base/js/namespace\"],function(Jupyter){Jupyter.notebook.save_checkpoint()})"
      ],
      "text/plain": [
       "<IPython.core.display.Javascript object>"
      ]
     },
     "metadata": {},
     "output_type": "display_data"
    },
    {
     "name": "stdout",
     "output_type": "stream",
     "text": [
      "[jovian] Updating notebook \"sayedebad-777/predict-power-consumption\" on https://jovian.ai/\u001b[0m\n",
      "[jovian] Committed successfully! https://jovian.ai/sayedebad-777/predict-power-consumption\u001b[0m\n"
     ]
    },
    {
     "data": {
      "text/plain": [
       "'https://jovian.ai/sayedebad-777/predict-power-consumption'"
      ]
     },
     "execution_count": 12,
     "metadata": {},
     "output_type": "execute_result"
    }
   ],
   "source": [
    "jovian.commit()"
   ]
  },
  {
   "cell_type": "markdown",
   "id": "f44f12bf",
   "metadata": {},
   "source": [
    "# Input and Target Columns"
   ]
  },
  {
   "cell_type": "code",
   "execution_count": 13,
   "id": "23787cbb",
   "metadata": {},
   "outputs": [],
   "source": [
    "input_cols = list(train_df.columns)[1:-3]\n",
    "target_col1 = list(train_df.columns)[-3:-2]\n",
    "target_col2 = list(train_df.columns)[-2:-1]\n",
    "target_col3 = list(train_df.columns)[-1:]"
   ]
  },
  {
   "cell_type": "markdown",
   "id": "b2e71f83",
   "metadata": {},
   "source": [
    "Seperating output columns zone 1, zone2 and zone 3 from features. input cols contains features"
   ]
  },
  {
   "cell_type": "code",
   "execution_count": 14,
   "id": "17b8e62d",
   "metadata": {},
   "outputs": [
    {
     "name": "stdout",
     "output_type": "stream",
     "text": [
      "['Temperature', 'Humidity', 'WindSpeed', 'GeneralDiffuseFlows', 'DiffuseFlows']\n"
     ]
    }
   ],
   "source": [
    "print(input_cols)"
   ]
  },
  {
   "cell_type": "code",
   "execution_count": 15,
   "id": "25064ea1",
   "metadata": {},
   "outputs": [
    {
     "name": "stdout",
     "output_type": "stream",
     "text": [
      "['PowerConsumption_Zone1'] ['PowerConsumption_Zone2'] ['PowerConsumption_Zone3']\n"
     ]
    }
   ],
   "source": [
    "print(target_col1, target_col2, target_col3)"
   ]
  },
  {
   "cell_type": "code",
   "execution_count": 16,
   "id": "b566d78b",
   "metadata": {},
   "outputs": [],
   "source": [
    "train_inputs = train_df[input_cols].copy()\n",
    "train_targets1 = train_df[target_col1].copy()\n",
    "train_targets2 = train_df[target_col2].copy()\n",
    "train_targets3 = train_df[target_col3].copy()"
   ]
  },
  {
   "cell_type": "code",
   "execution_count": 17,
   "id": "902eddb2",
   "metadata": {},
   "outputs": [],
   "source": [
    "val_inputs = val_df[input_cols].copy()\n",
    "val_targets1 = val_df[target_col1].copy()\n",
    "val_targets2 = val_df[target_col2].copy()\n",
    "val_targets3 = val_df[target_col3].copy()"
   ]
  },
  {
   "cell_type": "code",
   "execution_count": 18,
   "id": "12f3d055",
   "metadata": {},
   "outputs": [],
   "source": [
    "test_inputs = test_df[input_cols].copy()\n",
    "test_targets1 = test_df[target_col1].copy()\n",
    "test_targets2 = test_df[target_col2].copy()\n",
    "test_targets3 = test_df[target_col3].copy()"
   ]
  },
  {
   "cell_type": "markdown",
   "id": "526a814e",
   "metadata": {},
   "source": [
    "it is better to seperate training, validation and test set so that the model is trained on data from the past and evaluated on data from the future."
   ]
  },
  {
   "cell_type": "code",
   "execution_count": 19,
   "id": "caf6b006",
   "metadata": {},
   "outputs": [
    {
     "data": {
      "text/html": [
       "<div>\n",
       "<style scoped>\n",
       "    .dataframe tbody tr th:only-of-type {\n",
       "        vertical-align: middle;\n",
       "    }\n",
       "\n",
       "    .dataframe tbody tr th {\n",
       "        vertical-align: top;\n",
       "    }\n",
       "\n",
       "    .dataframe thead th {\n",
       "        text-align: right;\n",
       "    }\n",
       "</style>\n",
       "<table border=\"1\" class=\"dataframe\">\n",
       "  <thead>\n",
       "    <tr style=\"text-align: right;\">\n",
       "      <th></th>\n",
       "      <th>Temperature</th>\n",
       "      <th>Humidity</th>\n",
       "      <th>WindSpeed</th>\n",
       "      <th>GeneralDiffuseFlows</th>\n",
       "      <th>DiffuseFlows</th>\n",
       "    </tr>\n",
       "  </thead>\n",
       "  <tbody>\n",
       "    <tr>\n",
       "      <th>22174</th>\n",
       "      <td>20.20</td>\n",
       "      <td>84.70</td>\n",
       "      <td>0.070</td>\n",
       "      <td>0.040</td>\n",
       "      <td>0.130</td>\n",
       "    </tr>\n",
       "    <tr>\n",
       "      <th>100</th>\n",
       "      <td>15.48</td>\n",
       "      <td>57.73</td>\n",
       "      <td>0.075</td>\n",
       "      <td>195.700</td>\n",
       "      <td>231.600</td>\n",
       "    </tr>\n",
       "    <tr>\n",
       "      <th>7447</th>\n",
       "      <td>15.57</td>\n",
       "      <td>58.06</td>\n",
       "      <td>0.081</td>\n",
       "      <td>88.000</td>\n",
       "      <td>89.000</td>\n",
       "    </tr>\n",
       "    <tr>\n",
       "      <th>42742</th>\n",
       "      <td>20.50</td>\n",
       "      <td>74.90</td>\n",
       "      <td>4.917</td>\n",
       "      <td>0.073</td>\n",
       "      <td>0.093</td>\n",
       "    </tr>\n",
       "    <tr>\n",
       "      <th>28946</th>\n",
       "      <td>25.83</td>\n",
       "      <td>54.35</td>\n",
       "      <td>0.079</td>\n",
       "      <td>0.091</td>\n",
       "      <td>0.100</td>\n",
       "    </tr>\n",
       "    <tr>\n",
       "      <th>...</th>\n",
       "      <td>...</td>\n",
       "      <td>...</td>\n",
       "      <td>...</td>\n",
       "      <td>...</td>\n",
       "      <td>...</td>\n",
       "    </tr>\n",
       "    <tr>\n",
       "      <th>5018</th>\n",
       "      <td>10.38</td>\n",
       "      <td>51.40</td>\n",
       "      <td>0.088</td>\n",
       "      <td>0.066</td>\n",
       "      <td>0.115</td>\n",
       "    </tr>\n",
       "    <tr>\n",
       "      <th>44326</th>\n",
       "      <td>18.27</td>\n",
       "      <td>76.60</td>\n",
       "      <td>0.073</td>\n",
       "      <td>0.080</td>\n",
       "      <td>0.033</td>\n",
       "    </tr>\n",
       "    <tr>\n",
       "      <th>15996</th>\n",
       "      <td>13.29</td>\n",
       "      <td>88.60</td>\n",
       "      <td>0.073</td>\n",
       "      <td>0.033</td>\n",
       "      <td>0.122</td>\n",
       "    </tr>\n",
       "    <tr>\n",
       "      <th>28476</th>\n",
       "      <td>32.63</td>\n",
       "      <td>38.25</td>\n",
       "      <td>4.924</td>\n",
       "      <td>368.300</td>\n",
       "      <td>89.600</td>\n",
       "    </tr>\n",
       "    <tr>\n",
       "      <th>12583</th>\n",
       "      <td>16.48</td>\n",
       "      <td>63.27</td>\n",
       "      <td>4.921</td>\n",
       "      <td>395.900</td>\n",
       "      <td>401.900</td>\n",
       "    </tr>\n",
       "  </tbody>\n",
       "</table>\n",
       "<p>31449 rows × 5 columns</p>\n",
       "</div>"
      ],
      "text/plain": [
       "       Temperature  Humidity  WindSpeed  GeneralDiffuseFlows  DiffuseFlows\n",
       "22174        20.20     84.70      0.070                0.040         0.130\n",
       "100          15.48     57.73      0.075              195.700       231.600\n",
       "7447         15.57     58.06      0.081               88.000        89.000\n",
       "42742        20.50     74.90      4.917                0.073         0.093\n",
       "28946        25.83     54.35      0.079                0.091         0.100\n",
       "...            ...       ...        ...                  ...           ...\n",
       "5018         10.38     51.40      0.088                0.066         0.115\n",
       "44326        18.27     76.60      0.073                0.080         0.033\n",
       "15996        13.29     88.60      0.073                0.033         0.122\n",
       "28476        32.63     38.25      4.924              368.300        89.600\n",
       "12583        16.48     63.27      4.921              395.900       401.900\n",
       "\n",
       "[31449 rows x 5 columns]"
      ]
     },
     "execution_count": 19,
     "metadata": {},
     "output_type": "execute_result"
    }
   ],
   "source": [
    "train_inputs"
   ]
  },
  {
   "cell_type": "code",
   "execution_count": 20,
   "id": "d0e40ad8",
   "metadata": {},
   "outputs": [],
   "source": [
    "from numpy import ravel\n",
    "train_targets1 = ravel(train_targets1)\n",
    "train_targets2 = ravel(train_targets2)\n",
    "train_targets3 = ravel(train_targets3)\n",
    "val_targets1 = ravel(val_targets1)\n",
    "val_targets2 = ravel(val_targets2)\n",
    "val_targets3 = ravel(val_targets3)\n",
    "test_targets1 = ravel(test_targets1)\n",
    "test_targets2 = ravel(test_targets2)\n",
    "test_targets3 = ravel(test_targets3)"
   ]
  },
  {
   "cell_type": "markdown",
   "id": "371edd61",
   "metadata": {},
   "source": [
    "Ravel function is used here to convert it into 1-D array"
   ]
  },
  {
   "cell_type": "code",
   "execution_count": 21,
   "id": "a51b674d",
   "metadata": {},
   "outputs": [
    {
     "data": {
      "application/javascript": [
       "window.require && require([\"base/js/namespace\"],function(Jupyter){Jupyter.notebook.save_checkpoint()})"
      ],
      "text/plain": [
       "<IPython.core.display.Javascript object>"
      ]
     },
     "metadata": {},
     "output_type": "display_data"
    },
    {
     "name": "stdout",
     "output_type": "stream",
     "text": [
      "[jovian] Updating notebook \"sayedebad-777/predict-power-consumption\" on https://jovian.ai/\u001b[0m\n",
      "[jovian] Committed successfully! https://jovian.ai/sayedebad-777/predict-power-consumption\u001b[0m\n"
     ]
    },
    {
     "data": {
      "text/plain": [
       "'https://jovian.ai/sayedebad-777/predict-power-consumption'"
      ]
     },
     "execution_count": 21,
     "metadata": {},
     "output_type": "execute_result"
    }
   ],
   "source": [
    "jovian.commit()"
   ]
  },
  {
   "cell_type": "markdown",
   "id": "cbd61f15",
   "metadata": {},
   "source": [
    "# Scaling Numeric Features"
   ]
  },
  {
   "cell_type": "markdown",
   "id": "b8660385",
   "metadata": {},
   "source": [
    "Machine learning models can't work with missing numerical data. The process of filling missing values is called imputation."
   ]
  },
  {
   "cell_type": "code",
   "execution_count": 22,
   "id": "3d042dc7",
   "metadata": {},
   "outputs": [],
   "source": [
    "from sklearn.impute import SimpleImputer\n",
    "imputer = SimpleImputer(strategy = 'mean')"
   ]
  },
  {
   "cell_type": "code",
   "execution_count": 23,
   "id": "cb71af50",
   "metadata": {},
   "outputs": [
    {
     "data": {
      "text/plain": [
       "Datetime                  0\n",
       "Temperature               0\n",
       "Humidity                  0\n",
       "WindSpeed                 0\n",
       "GeneralDiffuseFlows       0\n",
       "DiffuseFlows              0\n",
       "PowerConsumption_Zone1    0\n",
       "PowerConsumption_Zone2    0\n",
       "PowerConsumption_Zone3    0\n",
       "dtype: int64"
      ]
     },
     "execution_count": 23,
     "metadata": {},
     "output_type": "execute_result"
    }
   ],
   "source": [
    "raw_df.isna().sum()"
   ]
  },
  {
   "cell_type": "markdown",
   "id": "852598fd",
   "metadata": {},
   "source": [
    "We don't have any missing values, else we have to fill it with the mean of each column."
   ]
  },
  {
   "cell_type": "code",
   "execution_count": 24,
   "id": "4bb3ee4a",
   "metadata": {},
   "outputs": [
    {
     "data": {
      "text/html": [
       "<div>\n",
       "<style scoped>\n",
       "    .dataframe tbody tr th:only-of-type {\n",
       "        vertical-align: middle;\n",
       "    }\n",
       "\n",
       "    .dataframe tbody tr th {\n",
       "        vertical-align: top;\n",
       "    }\n",
       "\n",
       "    .dataframe thead th {\n",
       "        text-align: right;\n",
       "    }\n",
       "</style>\n",
       "<table border=\"1\" class=\"dataframe\">\n",
       "  <thead>\n",
       "    <tr style=\"text-align: right;\">\n",
       "      <th></th>\n",
       "      <th>Temperature</th>\n",
       "      <th>Humidity</th>\n",
       "      <th>WindSpeed</th>\n",
       "      <th>GeneralDiffuseFlows</th>\n",
       "      <th>DiffuseFlows</th>\n",
       "      <th>PowerConsumption_Zone1</th>\n",
       "      <th>PowerConsumption_Zone2</th>\n",
       "      <th>PowerConsumption_Zone3</th>\n",
       "    </tr>\n",
       "  </thead>\n",
       "  <tbody>\n",
       "    <tr>\n",
       "      <th>count</th>\n",
       "      <td>52416.000000</td>\n",
       "      <td>52416.000000</td>\n",
       "      <td>52416.000000</td>\n",
       "      <td>52416.000000</td>\n",
       "      <td>52416.000000</td>\n",
       "      <td>52416.000000</td>\n",
       "      <td>52416.000000</td>\n",
       "      <td>52416.000000</td>\n",
       "    </tr>\n",
       "    <tr>\n",
       "      <th>mean</th>\n",
       "      <td>18.810024</td>\n",
       "      <td>68.259518</td>\n",
       "      <td>1.959489</td>\n",
       "      <td>182.696614</td>\n",
       "      <td>75.028022</td>\n",
       "      <td>32344.970564</td>\n",
       "      <td>21042.509082</td>\n",
       "      <td>17835.406218</td>\n",
       "    </tr>\n",
       "    <tr>\n",
       "      <th>std</th>\n",
       "      <td>5.815476</td>\n",
       "      <td>15.551177</td>\n",
       "      <td>2.348862</td>\n",
       "      <td>264.400960</td>\n",
       "      <td>124.210949</td>\n",
       "      <td>7130.562564</td>\n",
       "      <td>5201.465892</td>\n",
       "      <td>6622.165099</td>\n",
       "    </tr>\n",
       "    <tr>\n",
       "      <th>min</th>\n",
       "      <td>3.247000</td>\n",
       "      <td>11.340000</td>\n",
       "      <td>0.050000</td>\n",
       "      <td>0.004000</td>\n",
       "      <td>0.011000</td>\n",
       "      <td>13895.696200</td>\n",
       "      <td>8560.081466</td>\n",
       "      <td>5935.174070</td>\n",
       "    </tr>\n",
       "    <tr>\n",
       "      <th>25%</th>\n",
       "      <td>14.410000</td>\n",
       "      <td>58.310000</td>\n",
       "      <td>0.078000</td>\n",
       "      <td>0.062000</td>\n",
       "      <td>0.122000</td>\n",
       "      <td>26310.668692</td>\n",
       "      <td>16980.766032</td>\n",
       "      <td>13129.326630</td>\n",
       "    </tr>\n",
       "    <tr>\n",
       "      <th>50%</th>\n",
       "      <td>18.780000</td>\n",
       "      <td>69.860000</td>\n",
       "      <td>0.086000</td>\n",
       "      <td>5.035500</td>\n",
       "      <td>4.456000</td>\n",
       "      <td>32265.920340</td>\n",
       "      <td>20823.168405</td>\n",
       "      <td>16415.117470</td>\n",
       "    </tr>\n",
       "    <tr>\n",
       "      <th>75%</th>\n",
       "      <td>22.890000</td>\n",
       "      <td>81.400000</td>\n",
       "      <td>4.915000</td>\n",
       "      <td>319.600000</td>\n",
       "      <td>101.000000</td>\n",
       "      <td>37309.018185</td>\n",
       "      <td>24713.717520</td>\n",
       "      <td>21624.100420</td>\n",
       "    </tr>\n",
       "    <tr>\n",
       "      <th>max</th>\n",
       "      <td>40.010000</td>\n",
       "      <td>94.800000</td>\n",
       "      <td>6.483000</td>\n",
       "      <td>1163.000000</td>\n",
       "      <td>936.000000</td>\n",
       "      <td>52204.395120</td>\n",
       "      <td>37408.860760</td>\n",
       "      <td>47598.326360</td>\n",
       "    </tr>\n",
       "  </tbody>\n",
       "</table>\n",
       "</div>"
      ],
      "text/plain": [
       "        Temperature      Humidity     WindSpeed  GeneralDiffuseFlows  \\\n",
       "count  52416.000000  52416.000000  52416.000000         52416.000000   \n",
       "mean      18.810024     68.259518      1.959489           182.696614   \n",
       "std        5.815476     15.551177      2.348862           264.400960   \n",
       "min        3.247000     11.340000      0.050000             0.004000   \n",
       "25%       14.410000     58.310000      0.078000             0.062000   \n",
       "50%       18.780000     69.860000      0.086000             5.035500   \n",
       "75%       22.890000     81.400000      4.915000           319.600000   \n",
       "max       40.010000     94.800000      6.483000          1163.000000   \n",
       "\n",
       "       DiffuseFlows  PowerConsumption_Zone1  PowerConsumption_Zone2  \\\n",
       "count  52416.000000            52416.000000            52416.000000   \n",
       "mean      75.028022            32344.970564            21042.509082   \n",
       "std      124.210949             7130.562564             5201.465892   \n",
       "min        0.011000            13895.696200             8560.081466   \n",
       "25%        0.122000            26310.668692            16980.766032   \n",
       "50%        4.456000            32265.920340            20823.168405   \n",
       "75%      101.000000            37309.018185            24713.717520   \n",
       "max      936.000000            52204.395120            37408.860760   \n",
       "\n",
       "       PowerConsumption_Zone3  \n",
       "count            52416.000000  \n",
       "mean             17835.406218  \n",
       "std               6622.165099  \n",
       "min               5935.174070  \n",
       "25%              13129.326630  \n",
       "50%              16415.117470  \n",
       "75%              21624.100420  \n",
       "max              47598.326360  "
      ]
     },
     "execution_count": 24,
     "metadata": {},
     "output_type": "execute_result"
    }
   ],
   "source": [
    "raw_df.describe()"
   ]
  },
  {
   "cell_type": "code",
   "execution_count": 25,
   "id": "294d1a4d",
   "metadata": {},
   "outputs": [],
   "source": [
    "from sklearn.preprocessing import MinMaxScaler\n",
    "scaler = MinMaxScaler()"
   ]
  },
  {
   "cell_type": "code",
   "execution_count": 26,
   "id": "a514d4c6",
   "metadata": {},
   "outputs": [
    {
     "data": {
      "text/plain": [
       "MinMaxScaler()"
      ]
     },
     "execution_count": 26,
     "metadata": {},
     "output_type": "execute_result"
    }
   ],
   "source": [
    "scaler.fit(raw_df.loc[:, 'Temperature':'DiffuseFlows'])"
   ]
  },
  {
   "cell_type": "code",
   "execution_count": 27,
   "id": "b6b68efb",
   "metadata": {},
   "outputs": [
    {
     "name": "stdout",
     "output_type": "stream",
     "text": [
      "Minimum:\n"
     ]
    },
    {
     "data": {
      "text/plain": [
       "[3.247, 11.34, 0.05, 0.004, 0.011]"
      ]
     },
     "execution_count": 27,
     "metadata": {},
     "output_type": "execute_result"
    }
   ],
   "source": [
    "print('Minimum:')\n",
    "list(scaler.data_min_)"
   ]
  },
  {
   "cell_type": "code",
   "execution_count": 28,
   "id": "62d10f7a",
   "metadata": {},
   "outputs": [
    {
     "name": "stdout",
     "output_type": "stream",
     "text": [
      "Maximum:\n"
     ]
    },
    {
     "data": {
      "text/plain": [
       "[40.01, 94.8, 6.483, 1163.0, 936.0]"
      ]
     },
     "execution_count": 28,
     "metadata": {},
     "output_type": "execute_result"
    }
   ],
   "source": [
    "print('Maximum:')\n",
    "list(scaler.data_max_)"
   ]
  },
  {
   "cell_type": "code",
   "execution_count": 29,
   "id": "9415390a",
   "metadata": {},
   "outputs": [],
   "source": [
    "train_inputs = scaler.transform(train_inputs)\n",
    "val_inputs = scaler.transform(val_inputs)\n",
    "test_inputs = scaler.transform(test_inputs)"
   ]
  },
  {
   "cell_type": "code",
   "execution_count": 30,
   "id": "71ded173",
   "metadata": {},
   "outputs": [
    {
     "name": "stdout",
     "output_type": "stream",
     "text": [
      "train_inputs: (31449, 5)\n",
      "train_targets1: (31449,)\n",
      "train_targets2: (31449,)\n",
      "train_targets3: (31449,)\n",
      "val_inputs: (10483, 5)\n",
      "val_targets1: (10483,)\n",
      "val_targets2: (10483,)\n",
      "val_targets3: (10483,)\n",
      "test_inputs: (10484, 5)\n",
      "test_targets1: (10484,)\n",
      "test_targets2: (10484,)\n",
      "test_targets3: (10484,)\n"
     ]
    }
   ],
   "source": [
    "print('train_inputs:', train_inputs.shape)\n",
    "print('train_targets1:', train_targets1.shape)\n",
    "print('train_targets2:', train_targets2.shape)\n",
    "print('train_targets3:', train_targets3.shape)\n",
    "\n",
    "print('val_inputs:', val_inputs.shape)\n",
    "print('val_targets1:', val_targets1.shape)\n",
    "print('val_targets2:', val_targets2.shape)\n",
    "print('val_targets3:', val_targets3.shape)\n",
    "\n",
    "print('test_inputs:', test_inputs.shape)\n",
    "print('test_targets1:', test_targets1.shape)\n",
    "print('test_targets2:', test_targets2.shape)\n",
    "print('test_targets3:', test_targets3.shape)"
   ]
  },
  {
   "cell_type": "code",
   "execution_count": 31,
   "id": "841b3487",
   "metadata": {},
   "outputs": [
    {
     "data": {
      "application/javascript": [
       "window.require && require([\"base/js/namespace\"],function(Jupyter){Jupyter.notebook.save_checkpoint()})"
      ],
      "text/plain": [
       "<IPython.core.display.Javascript object>"
      ]
     },
     "metadata": {},
     "output_type": "display_data"
    },
    {
     "name": "stdout",
     "output_type": "stream",
     "text": [
      "[jovian] Updating notebook \"sayedebad-777/predict-power-consumption\" on https://jovian.ai/\u001b[0m\n",
      "[jovian] Committed successfully! https://jovian.ai/sayedebad-777/predict-power-consumption\u001b[0m\n"
     ]
    },
    {
     "data": {
      "text/plain": [
       "'https://jovian.ai/sayedebad-777/predict-power-consumption'"
      ]
     },
     "execution_count": 31,
     "metadata": {},
     "output_type": "execute_result"
    }
   ],
   "source": [
    "jovian.commit()"
   ]
  },
  {
   "cell_type": "markdown",
   "id": "58537ca9",
   "metadata": {},
   "source": [
    "# Linear Regression"
   ]
  },
  {
   "cell_type": "code",
   "execution_count": 32,
   "id": "3079908a",
   "metadata": {},
   "outputs": [],
   "source": [
    "from sklearn.linear_model import LinearRegression\n",
    "from sklearn.metrics import accuracy_score\n",
    "import numpy as np\n",
    "def rmse(targets, predictions):\n",
    "    return np.sqrt(np.mean(np.square(targets - predictions)))"
   ]
  },
  {
   "cell_type": "code",
   "execution_count": 33,
   "id": "9ecf281c",
   "metadata": {},
   "outputs": [],
   "source": [
    "def LR(train_targets, val_targets, test_targets):\n",
    "    model = LinearRegression().fit(train_inputs, train_targets)\n",
    "    preds1 = model.predict(train_inputs)\n",
    "    train_loss = rmse(train_targets, preds1)\n",
    "    print('Training Loss:', train_loss)\n",
    "    print('Score is : ', model.score(train_inputs, train_targets))\n",
    "    \n",
    "    preds2 = model.predict(val_inputs)\n",
    "    val_loss = rmse(val_targets, preds2)\n",
    "    print('Validation Loss:', val_loss)\n",
    "    print('Score is : ', model.score(val_inputs, val_targets))\n",
    "\n",
    "    preds3 = model.predict(test_inputs)\n",
    "    test_loss = rmse(test_targets, preds3)\n",
    "    print('Test Loss:', test_loss)\n",
    "    print('Score is : ', model.score(test_inputs, test_targets))"
   ]
  },
  {
   "cell_type": "code",
   "execution_count": 34,
   "id": "3e6b65cb",
   "metadata": {},
   "outputs": [
    {
     "name": "stdout",
     "output_type": "stream",
     "text": [
      "Training Loss: 6365.277444235467\n",
      "Score is :  0.20424803837960503\n",
      "Validation Loss: 6336.840984593195\n",
      "Score is :  0.2117600107953651\n",
      "Test Loss: 6311.01855328103\n",
      "Score is :  0.21122013722739308\n"
     ]
    }
   ],
   "source": [
    "#Zone 1\n",
    "LR(train_targets1, val_targets1, test_targets1)"
   ]
  },
  {
   "cell_type": "code",
   "execution_count": 35,
   "id": "2b8e18e4",
   "metadata": {},
   "outputs": [
    {
     "name": "stdout",
     "output_type": "stream",
     "text": [
      "Training Loss: 4740.5406826183635\n",
      "Score is :  0.16726022829837384\n",
      "Validation Loss: 4751.773907862484\n",
      "Score is :  0.17313195661193503\n",
      "Test Loss: 4710.329114635963\n",
      "Score is :  0.17793615871898016\n"
     ]
    }
   ],
   "source": [
    "#Zone 2\n",
    "LR(train_targets2, val_targets2, test_targets2)"
   ]
  },
  {
   "cell_type": "code",
   "execution_count": 36,
   "id": "a4c5f5b8",
   "metadata": {},
   "outputs": [
    {
     "name": "stdout",
     "output_type": "stream",
     "text": [
      "Training Loss: 5620.147630014966\n",
      "Score is :  0.2808484362083514\n",
      "Validation Loss: 5631.807272630137\n",
      "Score is :  0.27706374578108417\n",
      "Test Loss: 5575.0918346542085\n",
      "Score is :  0.2871920975187423\n"
     ]
    }
   ],
   "source": [
    "#Zone 3\n",
    "LR(train_targets3, val_targets3, test_targets3)"
   ]
  },
  {
   "cell_type": "code",
   "execution_count": 37,
   "id": "1924c8a3",
   "metadata": {},
   "outputs": [
    {
     "data": {
      "application/javascript": [
       "window.require && require([\"base/js/namespace\"],function(Jupyter){Jupyter.notebook.save_checkpoint()})"
      ],
      "text/plain": [
       "<IPython.core.display.Javascript object>"
      ]
     },
     "metadata": {},
     "output_type": "display_data"
    },
    {
     "name": "stdout",
     "output_type": "stream",
     "text": [
      "[jovian] Updating notebook \"sayedebad-777/predict-power-consumption\" on https://jovian.ai/\u001b[0m\n",
      "[jovian] Committed successfully! https://jovian.ai/sayedebad-777/predict-power-consumption\u001b[0m\n"
     ]
    },
    {
     "data": {
      "text/plain": [
       "'https://jovian.ai/sayedebad-777/predict-power-consumption'"
      ]
     },
     "execution_count": 37,
     "metadata": {},
     "output_type": "execute_result"
    }
   ],
   "source": [
    "jovian.commit()"
   ]
  },
  {
   "cell_type": "markdown",
   "id": "17b7ae03",
   "metadata": {},
   "source": [
    "# Summary and Further Reading"
   ]
  },
  {
   "cell_type": "markdown",
   "id": "4748049d",
   "metadata": {},
   "source": [
    "Following things are covered in above model :-\n",
    "\n",
    "1 :- A typical problem statement for machine learning\n",
    "\n",
    "2 :- Downloading a dataset for machine learning\n",
    "\n",
    "3 :- Linear regression with multiple variables using Scikit-learn\n",
    "\n",
    "4 :- Creating a training, validation and test set for reporting results"
   ]
  },
  {
   "cell_type": "markdown",
   "id": "1bfb7ce2",
   "metadata": {},
   "source": [
    "Check out the following links to learn more about linear regression:\n",
    "\n",
    "https://jovian.ai/aakashns/02-linear-regression\n",
    "\n",
    "https://www.kaggle.com/hely333/eda-regression\n",
    "\n",
    "https://www.youtube.com/watch?v=kHwlB_j7Hkc"
   ]
  },
  {
   "cell_type": "markdown",
   "id": "86337775",
   "metadata": {},
   "source": [
    "#  Decision Tree"
   ]
  },
  {
   "cell_type": "code",
   "execution_count": 38,
   "id": "85062bee",
   "metadata": {},
   "outputs": [],
   "source": [
    "from sklearn.tree import DecisionTreeRegressor\n",
    "#?DecisionTreeRegressor\n",
    "model = DecisionTreeRegressor(max_depth=12, random_state=42)"
   ]
  },
  {
   "cell_type": "code",
   "execution_count": 39,
   "id": "1a17bae4",
   "metadata": {},
   "outputs": [
    {
     "data": {
      "text/plain": [
       "DecisionTreeRegressor(max_depth=12, random_state=42)"
      ]
     },
     "execution_count": 39,
     "metadata": {},
     "output_type": "execute_result"
    }
   ],
   "source": [
    "model.fit(train_inputs, train_targets1)"
   ]
  },
  {
   "cell_type": "markdown",
   "id": "62f8c1e6",
   "metadata": {},
   "source": [
    "An optimal decision tree has now been created using the training data."
   ]
  },
  {
   "cell_type": "code",
   "execution_count": 40,
   "id": "3ccd71d1",
   "metadata": {},
   "outputs": [
    {
     "name": "stdout",
     "output_type": "stream",
     "text": [
      "0.5871994483810254\n",
      "0.35905613154536586\n"
     ]
    }
   ],
   "source": [
    "print(model.score(train_inputs, train_targets1))\n",
    "print(model.score(val_inputs, val_targets1))"
   ]
  },
  {
   "cell_type": "markdown",
   "id": "d931133d",
   "metadata": {},
   "source": [
    "Training set accuray is close to 59% and accuracy of validation set is close to 36%"
   ]
  },
  {
   "cell_type": "markdown",
   "id": "fe5dda59",
   "metadata": {},
   "source": [
    "# Hyperparameter Tuning with Decision Tree"
   ]
  },
  {
   "cell_type": "markdown",
   "id": "61a6d5ce",
   "metadata": {},
   "source": [
    "The DecisionTreeRegressor accepts several arguments, some of which can be modified to reduce overfitting.\n",
    "These arguments are called hyperparameters because they must be configured manually as opposed to the parameters within the model which are learned from the data."
   ]
  },
  {
   "cell_type": "markdown",
   "id": "22a7592c",
   "metadata": {},
   "source": [
    "max_depth : By reducing the maximum depth of the decision tree, we can prevent the tree from memorizing all training examples, which may lead to better generalization."
   ]
  },
  {
   "cell_type": "code",
   "execution_count": 41,
   "id": "bfbeab6c",
   "metadata": {},
   "outputs": [],
   "source": [
    "def DTree(md):\n",
    "    model = DecisionTreeRegressor(max_depth=md, random_state=42)\n",
    "    model.fit(train_inputs, train_targets1)\n",
    "    train_acc = 1 - model.score(train_inputs, train_targets1)\n",
    "    val_acc = 1 - model.score(val_inputs, val_targets1)\n",
    "    return {'Max Depth': md, 'Training Error': train_acc, 'Validation Error': val_acc}"
   ]
  },
  {
   "cell_type": "code",
   "execution_count": 42,
   "id": "d7ff2d60",
   "metadata": {},
   "outputs": [],
   "source": [
    "errors_df = pd.DataFrame([DTree(md) for md in range(1, 21)])"
   ]
  },
  {
   "cell_type": "code",
   "execution_count": 43,
   "id": "17a759af",
   "metadata": {},
   "outputs": [
    {
     "data": {
      "text/html": [
       "<div>\n",
       "<style scoped>\n",
       "    .dataframe tbody tr th:only-of-type {\n",
       "        vertical-align: middle;\n",
       "    }\n",
       "\n",
       "    .dataframe tbody tr th {\n",
       "        vertical-align: top;\n",
       "    }\n",
       "\n",
       "    .dataframe thead th {\n",
       "        text-align: right;\n",
       "    }\n",
       "</style>\n",
       "<table border=\"1\" class=\"dataframe\">\n",
       "  <thead>\n",
       "    <tr style=\"text-align: right;\">\n",
       "      <th></th>\n",
       "      <th>Max Depth</th>\n",
       "      <th>Training Error</th>\n",
       "      <th>Validation Error</th>\n",
       "    </tr>\n",
       "  </thead>\n",
       "  <tbody>\n",
       "    <tr>\n",
       "      <th>0</th>\n",
       "      <td>1</td>\n",
       "      <td>0.869719</td>\n",
       "      <td>0.865551</td>\n",
       "    </tr>\n",
       "    <tr>\n",
       "      <th>1</th>\n",
       "      <td>2</td>\n",
       "      <td>0.815864</td>\n",
       "      <td>0.806035</td>\n",
       "    </tr>\n",
       "    <tr>\n",
       "      <th>2</th>\n",
       "      <td>3</td>\n",
       "      <td>0.781813</td>\n",
       "      <td>0.770665</td>\n",
       "    </tr>\n",
       "    <tr>\n",
       "      <th>3</th>\n",
       "      <td>4</td>\n",
       "      <td>0.748359</td>\n",
       "      <td>0.738090</td>\n",
       "    </tr>\n",
       "    <tr>\n",
       "      <th>4</th>\n",
       "      <td>5</td>\n",
       "      <td>0.712400</td>\n",
       "      <td>0.708966</td>\n",
       "    </tr>\n",
       "    <tr>\n",
       "      <th>5</th>\n",
       "      <td>6</td>\n",
       "      <td>0.676688</td>\n",
       "      <td>0.677702</td>\n",
       "    </tr>\n",
       "    <tr>\n",
       "      <th>6</th>\n",
       "      <td>7</td>\n",
       "      <td>0.638079</td>\n",
       "      <td>0.649987</td>\n",
       "    </tr>\n",
       "    <tr>\n",
       "      <th>7</th>\n",
       "      <td>8</td>\n",
       "      <td>0.603695</td>\n",
       "      <td>0.634470</td>\n",
       "    </tr>\n",
       "    <tr>\n",
       "      <th>8</th>\n",
       "      <td>9</td>\n",
       "      <td>0.568402</td>\n",
       "      <td>0.628043</td>\n",
       "    </tr>\n",
       "    <tr>\n",
       "      <th>9</th>\n",
       "      <td>10</td>\n",
       "      <td>0.523304</td>\n",
       "      <td>0.632414</td>\n",
       "    </tr>\n",
       "    <tr>\n",
       "      <th>10</th>\n",
       "      <td>11</td>\n",
       "      <td>0.469796</td>\n",
       "      <td>0.631969</td>\n",
       "    </tr>\n",
       "    <tr>\n",
       "      <th>11</th>\n",
       "      <td>12</td>\n",
       "      <td>0.412801</td>\n",
       "      <td>0.640944</td>\n",
       "    </tr>\n",
       "    <tr>\n",
       "      <th>12</th>\n",
       "      <td>13</td>\n",
       "      <td>0.352592</td>\n",
       "      <td>0.668051</td>\n",
       "    </tr>\n",
       "    <tr>\n",
       "      <th>13</th>\n",
       "      <td>14</td>\n",
       "      <td>0.295999</td>\n",
       "      <td>0.687590</td>\n",
       "    </tr>\n",
       "    <tr>\n",
       "      <th>14</th>\n",
       "      <td>15</td>\n",
       "      <td>0.239613</td>\n",
       "      <td>0.716597</td>\n",
       "    </tr>\n",
       "    <tr>\n",
       "      <th>15</th>\n",
       "      <td>16</td>\n",
       "      <td>0.187843</td>\n",
       "      <td>0.746016</td>\n",
       "    </tr>\n",
       "    <tr>\n",
       "      <th>16</th>\n",
       "      <td>17</td>\n",
       "      <td>0.143200</td>\n",
       "      <td>0.776617</td>\n",
       "    </tr>\n",
       "    <tr>\n",
       "      <th>17</th>\n",
       "      <td>18</td>\n",
       "      <td>0.106372</td>\n",
       "      <td>0.799697</td>\n",
       "    </tr>\n",
       "    <tr>\n",
       "      <th>18</th>\n",
       "      <td>19</td>\n",
       "      <td>0.076213</td>\n",
       "      <td>0.828470</td>\n",
       "    </tr>\n",
       "    <tr>\n",
       "      <th>19</th>\n",
       "      <td>20</td>\n",
       "      <td>0.051981</td>\n",
       "      <td>0.849683</td>\n",
       "    </tr>\n",
       "  </tbody>\n",
       "</table>\n",
       "</div>"
      ],
      "text/plain": [
       "    Max Depth  Training Error  Validation Error\n",
       "0           1        0.869719          0.865551\n",
       "1           2        0.815864          0.806035\n",
       "2           3        0.781813          0.770665\n",
       "3           4        0.748359          0.738090\n",
       "4           5        0.712400          0.708966\n",
       "5           6        0.676688          0.677702\n",
       "6           7        0.638079          0.649987\n",
       "7           8        0.603695          0.634470\n",
       "8           9        0.568402          0.628043\n",
       "9          10        0.523304          0.632414\n",
       "10         11        0.469796          0.631969\n",
       "11         12        0.412801          0.640944\n",
       "12         13        0.352592          0.668051\n",
       "13         14        0.295999          0.687590\n",
       "14         15        0.239613          0.716597\n",
       "15         16        0.187843          0.746016\n",
       "16         17        0.143200          0.776617\n",
       "17         18        0.106372          0.799697\n",
       "18         19        0.076213          0.828470\n",
       "19         20        0.051981          0.849683"
      ]
     },
     "execution_count": 43,
     "metadata": {},
     "output_type": "execute_result"
    }
   ],
   "source": [
    "errors_df"
   ]
  },
  {
   "cell_type": "code",
   "execution_count": 44,
   "id": "87718a90",
   "metadata": {},
   "outputs": [
    {
     "data": {
      "text/plain": [
       "<matplotlib.legend.Legend at 0x201fe1763d0>"
      ]
     },
     "execution_count": 44,
     "metadata": {},
     "output_type": "execute_result"
    },
    {
     "data": {
      "image/png": "[encoded data removed]",
      "text/plain": [
       "<Figure size 432x288 with 1 Axes>"
      ]
     },
     "metadata": {
      "needs_background": "light"
     },
     "output_type": "display_data"
    }
   ],
   "source": [
    "import matplotlib.pyplot as plt\n",
    "import seaborn as sns\n",
    "\n",
    "plt.figure()\n",
    "plt.plot(errors_df['Max Depth'], errors_df['Training Error'])\n",
    "plt.plot(errors_df['Max Depth'], errors_df['Validation Error'])\n",
    "plt.title('Training vs. Validation Error')\n",
    "plt.xticks(range(0,21, 2))\n",
    "plt.xlabel('Max. Depth')\n",
    "plt.ylabel('Prediction Error (1 - Accuracy)')\n",
    "plt.legend(['Training', 'Validation'])"
   ]
  },
  {
   "cell_type": "markdown",
   "id": "fccb5804",
   "metadata": {},
   "source": [
    "we'll often need to tune hyperparameters carefully to find the optimal fit. In the above case, it appears that a maximum depth of 10 results in the lowest validation error."
   ]
  },
  {
   "cell_type": "code",
   "execution_count": 45,
   "id": "297ef0e7",
   "metadata": {},
   "outputs": [
    {
     "name": "stdout",
     "output_type": "stream",
     "text": [
      "0.4766955833531148\n",
      "0.36758582419133723\n"
     ]
    }
   ],
   "source": [
    "model = DecisionTreeRegressor(max_depth=10, random_state=42).fit(train_inputs, train_targets1)\n",
    "print(model.score(train_inputs, train_targets1))\n",
    "print(model.score(val_inputs, val_targets1))"
   ]
  },
  {
   "cell_type": "markdown",
   "id": "14ef6ec8",
   "metadata": {},
   "source": [
    "max_leaf_nodes : Another way to control the size of complexity of a decision tree is to limit the number of leaf nodes. This allows branches of the tree to have varying depths."
   ]
  },
  {
   "cell_type": "code",
   "execution_count": 46,
   "id": "38bd8514",
   "metadata": {},
   "outputs": [
    {
     "name": "stdout",
     "output_type": "stream",
     "text": [
      "0.4596226963887383\n",
      "0.38184508986095655\n"
     ]
    }
   ],
   "source": [
    "model = DecisionTreeRegressor(max_leaf_nodes=250, random_state=42)\n",
    "model.fit(train_inputs, train_targets1)\n",
    "print(model.score(train_inputs, train_targets1))\n",
    "print(model.score(val_inputs, val_targets1))"
   ]
  },
  {
   "cell_type": "code",
   "execution_count": 47,
   "id": "4a4fc490",
   "metadata": {},
   "outputs": [
    {
     "data": {
      "text/plain": [
       "16"
      ]
     },
     "execution_count": 47,
     "metadata": {},
     "output_type": "execute_result"
    }
   ],
   "source": [
    "model.tree_.max_depth"
   ]
  },
  {
   "cell_type": "markdown",
   "id": "00d8b8ff",
   "metadata": {},
   "source": [
    "Notice that the model was able to achieve a greater depth of 12 for certain paths while keeping other paths shorter."
   ]
  },
  {
   "cell_type": "markdown",
   "id": "86846c0e",
   "metadata": {},
   "source": [
    "# Final Model"
   ]
  },
  {
   "cell_type": "code",
   "execution_count": 48,
   "id": "339534e4",
   "metadata": {},
   "outputs": [],
   "source": [
    "def DTFinal(train_targets, test_targets):\n",
    "    model = DecisionTreeRegressor(max_depth=16, random_state=42)\n",
    "    model.fit(train_inputs, train_targets)\n",
    "    train_acc = 1 - model.score(train_inputs, train_targets)\n",
    "    test_acc = 1 - model.score(test_inputs, test_targets)\n",
    "    return {'Training Error': train_acc, 'Test Error': test_acc}"
   ]
  },
  {
   "cell_type": "code",
   "execution_count": 49,
   "id": "1ab77621",
   "metadata": {},
   "outputs": [
    {
     "data": {
      "text/plain": [
       "{'Training Error': 0.1878433856047489, 'Test Error': 0.7582137112773722}"
      ]
     },
     "execution_count": 49,
     "metadata": {},
     "output_type": "execute_result"
    }
   ],
   "source": [
    "#Zone 1\n",
    "DTFinal(train_targets1, test_targets1)"
   ]
  },
  {
   "cell_type": "code",
   "execution_count": 50,
   "id": "5eb3ad66",
   "metadata": {},
   "outputs": [
    {
     "data": {
      "text/plain": [
       "{'Training Error': 0.2692514102990812, 'Test Error': 0.7120291166278757}"
      ]
     },
     "execution_count": 50,
     "metadata": {},
     "output_type": "execute_result"
    }
   ],
   "source": [
    "#Zone 2\n",
    "DTFinal(train_targets2, test_targets2)"
   ]
  },
  {
   "cell_type": "code",
   "execution_count": 51,
   "id": "a48aeef8",
   "metadata": {},
   "outputs": [
    {
     "data": {
      "text/plain": [
       "{'Training Error': 0.1539005798895281, 'Test Error': 0.4933125909810425}"
      ]
     },
     "execution_count": 51,
     "metadata": {},
     "output_type": "execute_result"
    }
   ],
   "source": [
    "#Zone 3\n",
    "DTFinal(train_targets3, test_targets3)"
   ]
  },
  {
   "cell_type": "code",
   "execution_count": 52,
   "id": "be9843da",
   "metadata": {},
   "outputs": [
    {
     "data": {
      "application/javascript": [
       "window.require && require([\"base/js/namespace\"],function(Jupyter){Jupyter.notebook.save_checkpoint()})"
      ],
      "text/plain": [
       "<IPython.core.display.Javascript object>"
      ]
     },
     "metadata": {},
     "output_type": "display_data"
    },
    {
     "name": "stdout",
     "output_type": "stream",
     "text": [
      "[jovian] Updating notebook \"sayedebad-777/predict-power-consumption\" on https://jovian.ai/\u001b[0m\n",
      "[jovian] Committed successfully! https://jovian.ai/sayedebad-777/predict-power-consumption\u001b[0m\n"
     ]
    },
    {
     "data": {
      "text/plain": [
       "'https://jovian.ai/sayedebad-777/predict-power-consumption'"
      ]
     },
     "execution_count": 52,
     "metadata": {},
     "output_type": "execute_result"
    }
   ],
   "source": [
    "jovian.commit()"
   ]
  },
  {
   "cell_type": "markdown",
   "id": "e81fe168",
   "metadata": {},
   "source": [
    "# Random Forest"
   ]
  },
  {
   "cell_type": "markdown",
   "id": "5ceb04ed",
   "metadata": {},
   "source": [
    "While tuning the hyperparameters of a single decision tree may lead to some improvements, a much more effective strategy is to combine the results of several decision trees trained with slightly different parameters. This is called a random forest model."
   ]
  },
  {
   "cell_type": "code",
   "execution_count": 53,
   "id": "cf73bb36",
   "metadata": {},
   "outputs": [],
   "source": [
    "from sklearn.ensemble import RandomForestRegressor"
   ]
  },
  {
   "cell_type": "code",
   "execution_count": 54,
   "id": "0d313185",
   "metadata": {},
   "outputs": [],
   "source": [
    "def RF_base_model(train_targets, val_targets):\n",
    "    model = RandomForestRegressor(n_jobs=-1, random_state=42)\n",
    "    model.fit(train_inputs, train_targets)\n",
    "    print(model.score(train_inputs, train_targets))\n",
    "    print(model.score(val_inputs, val_targets))"
   ]
  },
  {
   "cell_type": "markdown",
   "id": "ae3e22d9",
   "metadata": {},
   "source": [
    "n_jobs allows the random forest to use mutiple parallel workers to train decision trees, and random_state=42 ensures that the we get the same results for each execution."
   ]
  },
  {
   "cell_type": "code",
   "execution_count": 55,
   "id": "76c7e605",
   "metadata": {},
   "outputs": [
    {
     "name": "stdout",
     "output_type": "stream",
     "text": [
      "0.9370446028117284\n",
      "0.5489458619943447\n"
     ]
    }
   ],
   "source": [
    "#Zone 1\n",
    "RF_base_model(train_targets1, val_targets1)"
   ]
  },
  {
   "cell_type": "code",
   "execution_count": 56,
   "id": "f32e8bcf",
   "metadata": {},
   "outputs": [
    {
     "name": "stdout",
     "output_type": "stream",
     "text": [
      "0.9357190651280228\n",
      "0.5486672980980536\n"
     ]
    }
   ],
   "source": [
    "#Zone 1\n",
    "RF_base_model(train_targets2, val_targets2)"
   ]
  },
  {
   "cell_type": "code",
   "execution_count": 57,
   "id": "566083c2",
   "metadata": {},
   "outputs": [
    {
     "name": "stdout",
     "output_type": "stream",
     "text": [
      "0.9583038592984507\n",
      "0.7004112864835441\n"
     ]
    }
   ],
   "source": [
    "#Zone 3\n",
    "RF_base_model(train_targets3, val_targets3)"
   ]
  },
  {
   "cell_type": "markdown",
   "id": "eed1f7d6",
   "metadata": {},
   "source": [
    "# Hyperparameter Tuning with Random Forest"
   ]
  },
  {
   "cell_type": "markdown",
   "id": "e180eadb",
   "metadata": {},
   "source": [
    "Just like decision trees, random forests also have several hyperparameters. In fact many of these hyperparameters are applied to the underlying decision trees."
   ]
  },
  {
   "cell_type": "markdown",
   "id": "90807783",
   "metadata": {},
   "source": [
    "n_estimators : This argument controls the number of decision trees in the random forest. The default value is 100. For larger datasets, it helps to have a greater number of estimators. As a general rule, we should try to have as few estimators as needed"
   ]
  },
  {
   "cell_type": "code",
   "execution_count": 58,
   "id": "dd3ac815",
   "metadata": {},
   "outputs": [
    {
     "name": "stdout",
     "output_type": "stream",
     "text": [
      "0.9393394897322898\n",
      "0.5535499622632465\n"
     ]
    }
   ],
   "source": [
    "#with n_estimators = 500\n",
    "model = RandomForestRegressor(random_state=42, n_jobs=-1, n_estimators=500)\n",
    "model.fit(train_inputs, train_targets1)\n",
    "print(model.score(train_inputs, train_targets1))\n",
    "print(model.score(val_inputs, val_targets1))"
   ]
  },
  {
   "cell_type": "code",
   "execution_count": 59,
   "id": "7ef84dda",
   "metadata": {},
   "outputs": [],
   "source": [
    "def test_params(**params):\n",
    "    model = RandomForestRegressor(random_state=42, n_jobs=-1, **params).fit(train_inputs, train_targets1)\n",
    "    return model.score(train_inputs, train_targets1), model.score(val_inputs, val_targets1)"
   ]
  },
  {
   "cell_type": "markdown",
   "id": "b70b1074",
   "metadata": {},
   "source": [
    "min_samples_split and min_samples_leaf : By default, the decision tree classifier tries to split every node that has 2 or more. You can increase the values of these arguments to change this behavior and reduce overfitting, especially for very large datasets."
   ]
  },
  {
   "cell_type": "code",
   "execution_count": 60,
   "id": "ed230a8d",
   "metadata": {},
   "outputs": [
    {
     "data": {
      "text/plain": [
       "(0.9370446028117284, 0.5489458619943447)"
      ]
     },
     "execution_count": 60,
     "metadata": {},
     "output_type": "execute_result"
    }
   ],
   "source": [
    "test_params(max_depth=50)"
   ]
  },
  {
   "cell_type": "code",
   "execution_count": 61,
   "id": "58887804",
   "metadata": {},
   "outputs": [
    {
     "data": {
      "text/plain": [
       "(0.4332686943073317, 0.41038935340488336)"
      ]
     },
     "execution_count": 61,
     "metadata": {},
     "output_type": "execute_result"
    }
   ],
   "source": [
    "test_params(min_samples_split=200, min_samples_leaf=50)"
   ]
  },
  {
   "cell_type": "markdown",
   "id": "640590b2",
   "metadata": {},
   "source": [
    "bootstrap, max_samples : By default, a random forest doesn't use the entire dataset for training each decision tree. Instead it applies a technique called bootstrapping. For each tree, rows from the dataset are picked one by one randomly, with replacement i.e. some rows may not show up at all, while some rows may show up multiple times. It helps the random forest generalize better, because each decision tree only sees a fraction of th training set, and some rows randomly get higher weightage than others."
   ]
  },
  {
   "cell_type": "code",
   "execution_count": 62,
   "id": "49baa400",
   "metadata": {},
   "outputs": [
    {
     "data": {
      "text/plain": [
       "(1.0, 0.1616508506330716)"
      ]
     },
     "execution_count": 62,
     "metadata": {},
     "output_type": "execute_result"
    }
   ],
   "source": [
    "test_params(bootstrap=False)"
   ]
  },
  {
   "cell_type": "markdown",
   "id": "05d16f54",
   "metadata": {},
   "source": [
    "When bootstrapping is enabled, we can also control the number or fraction of rows to be considered for each bootstrap using max_samples. This can further generalize the model."
   ]
  },
  {
   "cell_type": "code",
   "execution_count": 63,
   "id": "54f971fa",
   "metadata": {},
   "outputs": [
    {
     "data": {
      "text/plain": [
       "(0.9305304753718977, 0.550295994971995)"
      ]
     },
     "execution_count": 63,
     "metadata": {},
     "output_type": "execute_result"
    }
   ],
   "source": [
    "test_params(max_samples=0.95)"
   ]
  },
  {
   "cell_type": "markdown",
   "id": "762d356f",
   "metadata": {},
   "source": [
    "# Final Model"
   ]
  },
  {
   "cell_type": "code",
   "execution_count": 64,
   "id": "445e502a",
   "metadata": {},
   "outputs": [],
   "source": [
    "def RFFinal(train_targets, test_targets):\n",
    "    model = RandomForestRegressor(random_state=42, n_jobs=-1, n_estimators=500, max_depth=50)\n",
    "    model.fit(train_inputs, train_targets)\n",
    "    print(model.score(test_inputs, test_targets))"
   ]
  },
  {
   "cell_type": "code",
   "execution_count": 65,
   "id": "bae6f38a",
   "metadata": {},
   "outputs": [
    {
     "name": "stdout",
     "output_type": "stream",
     "text": [
      "0.5520319361394155\n"
     ]
    }
   ],
   "source": [
    "#Zone 1\n",
    "RFFinal(train_targets1, test_targets1)"
   ]
  },
  {
   "cell_type": "code",
   "execution_count": 66,
   "id": "35219fa2",
   "metadata": {},
   "outputs": [
    {
     "name": "stdout",
     "output_type": "stream",
     "text": [
      "0.553015816542903\n"
     ]
    }
   ],
   "source": [
    "#Zone 2\n",
    "RFFinal(train_targets2, test_targets2)"
   ]
  },
  {
   "cell_type": "code",
   "execution_count": 67,
   "id": "e6e313a6",
   "metadata": {},
   "outputs": [
    {
     "name": "stdout",
     "output_type": "stream",
     "text": [
      "0.6981827055608771\n"
     ]
    }
   ],
   "source": [
    "#Zone 3\n",
    "RFFinal(train_targets3, test_targets3)"
   ]
  },
  {
   "cell_type": "code",
   "execution_count": 68,
   "id": "b03fe5a8",
   "metadata": {},
   "outputs": [
    {
     "data": {
      "application/javascript": [
       "window.require && require([\"base/js/namespace\"],function(Jupyter){Jupyter.notebook.save_checkpoint()})"
      ],
      "text/plain": [
       "<IPython.core.display.Javascript object>"
      ]
     },
     "metadata": {},
     "output_type": "display_data"
    },
    {
     "name": "stdout",
     "output_type": "stream",
     "text": [
      "[jovian] Updating notebook \"sayedebad-777/predict-power-consumption\" on https://jovian.ai/\u001b[0m\n",
      "[jovian] Committed successfully! https://jovian.ai/sayedebad-777/predict-power-consumption\u001b[0m\n"
     ]
    },
    {
     "data": {
      "text/plain": [
       "'https://jovian.ai/sayedebad-777/predict-power-consumption'"
      ]
     },
     "execution_count": 68,
     "metadata": {},
     "output_type": "execute_result"
    }
   ],
   "source": [
    "jovian.commit()"
   ]
  },
  {
   "cell_type": "markdown",
   "id": "1f58ae97",
   "metadata": {},
   "source": [
    "# Summary and Further Reading"
   ]
  },
  {
   "cell_type": "markdown",
   "id": "f195a116",
   "metadata": {},
   "source": [
    "Following things are covered in above model :-\n",
    "\n",
    "1 :- Training and interpreting of decision trees\n",
    "\n",
    "2 :- Hyperparameter tuning with decision trees\n",
    "\n",
    "3 :- Training and interpreting random forests\n",
    "\n",
    "4 :- Hyperparameter tuning with random forests"
   ]
  },
  {
   "cell_type": "markdown",
   "id": "d1f78d21",
   "metadata": {},
   "source": [
    "Check out the following resources to learn more:\n",
    "\n",
    "https://scikit-learn.org/stable/modules/tree.html\n",
    "\n",
    "https://scikit-learn.org/stable/modules/generated/sklearn.ensemble.RandomForestClassifier.html\n",
    "\n",
    "https://www.kaggle.com/willkoehrsen/start-here-a-gentle-introduction\n",
    "\n",
    "https://www.kaggle.com/willkoehrsen/introduction-to-manual-feature-engineering\n",
    "\n",
    "https://www.kaggle.com/willkoehrsen/intro-to-model-tuning-grid-and-random-search\n",
    "\n",
    "https://www.kaggle.com/c/home-credit-default-risk/discussion/64821"
   ]
  },
  {
   "cell_type": "markdown",
   "id": "c30c5fbf",
   "metadata": {},
   "source": [
    "# Gradient Boosting"
   ]
  },
  {
   "cell_type": "code",
   "execution_count": 69,
   "id": "60c0958e",
   "metadata": {},
   "outputs": [],
   "source": [
    "from xgboost import XGBRegressor\n",
    "from sklearn.metrics import mean_squared_error\n",
    "\n",
    "def Rmse(a, b):\n",
    "    return mean_squared_error(a, b, squared=False)"
   ]
  },
  {
   "cell_type": "markdown",
   "id": "edf9592e",
   "metadata": {},
   "source": [
    "Evaluating the predictions using RMSE error."
   ]
  },
  {
   "cell_type": "code",
   "execution_count": 70,
   "id": "04d045fd",
   "metadata": {},
   "outputs": [],
   "source": [
    "def GB(train_targets, val_targets):\n",
    "    model = XGBRegressor(random_state=42, n_jobs=-1, n_estimators=20, max_depth=4)\n",
    "    model.fit(train_inputs, train_targets)\n",
    "    \n",
    "    preds1 = model.predict(train_inputs)\n",
    "    preds2 = model.predict(val_inputs)\n",
    "    \n",
    "    train_rmse = Rmse(preds1, train_targets)\n",
    "    print('Score is :', model.score(train_inputs, train_targets))\n",
    "    val_rmse = Rmse(preds2, val_targets)\n",
    "    print('Score is :', model.score(val_inputs, val_targets))\n",
    "    return train_rmse, val_rmse"
   ]
  },
  {
   "cell_type": "code",
   "execution_count": 71,
   "id": "38e1f6f0",
   "metadata": {},
   "outputs": [
    {
     "name": "stdout",
     "output_type": "stream",
     "text": [
      "Score is : 0.37811260796481716\n",
      "Score is : 0.36623330081811667\n"
     ]
    },
    {
     "data": {
      "text/plain": [
       "(5627.096398706124, 5682.09231303948)"
      ]
     },
     "execution_count": 71,
     "metadata": {},
     "output_type": "execute_result"
    }
   ],
   "source": [
    "#Zone 1\n",
    "GB(train_targets1, val_targets1)"
   ]
  },
  {
   "cell_type": "code",
   "execution_count": 72,
   "id": "c3ec28a0",
   "metadata": {},
   "outputs": [
    {
     "name": "stdout",
     "output_type": "stream",
     "text": [
      "Score is : 0.36113527640025245\n",
      "Score is : 0.35095033259409514\n"
     ]
    },
    {
     "data": {
      "text/plain": [
       "(4152.194401541004, 4209.947019701643)"
      ]
     },
     "execution_count": 72,
     "metadata": {},
     "output_type": "execute_result"
    }
   ],
   "source": [
    "#Zone 2\n",
    "GB(train_targets2, val_targets2)"
   ]
  },
  {
   "cell_type": "code",
   "execution_count": 73,
   "id": "bd45be0c",
   "metadata": {},
   "outputs": [
    {
     "name": "stdout",
     "output_type": "stream",
     "text": [
      "Score is : 0.5541146079896289\n",
      "Score is : 0.5454140778030769\n"
     ]
    },
    {
     "data": {
      "text/plain": [
       "(4425.365352899107, 4465.866877764605)"
      ]
     },
     "execution_count": 73,
     "metadata": {},
     "output_type": "execute_result"
    }
   ],
   "source": [
    "#Zone 3\n",
    "GB(train_targets3, val_targets3)"
   ]
  },
  {
   "cell_type": "markdown",
   "id": "c7d195ef",
   "metadata": {},
   "source": [
    "# Hyperparameter Tuning with Gradient Boosting"
   ]
  },
  {
   "cell_type": "code",
   "execution_count": 74,
   "id": "32acd331",
   "metadata": {},
   "outputs": [],
   "source": [
    "def test_params(**params):\n",
    "    model = XGBRegressor(n_jobs=-1, random_state=42, **params)\n",
    "    model.fit(train_inputs, train_targets1)\n",
    "    train_rmse = Rmse(train_targets1, model.predict(train_inputs))\n",
    "    print('Score is :', model.score(train_inputs, train_targets1))\n",
    "    val_rmse = Rmse(val_targets1, model.predict(val_inputs))\n",
    "    print('Score is :', model.score(val_inputs, val_targets1))\n",
    "    print('Train RMSE: {}, Validation RMSE: {}'.format(train_rmse, val_rmse))"
   ]
  },
  {
   "cell_type": "markdown",
   "id": "79e0b359",
   "metadata": {},
   "source": [
    "max_depth : As you increase the max depth of each tree, the capacity of the tree increases and it can capture more information about the training set."
   ]
  },
  {
   "cell_type": "code",
   "execution_count": 75,
   "id": "b56a052c",
   "metadata": {},
   "outputs": [
    {
     "name": "stdout",
     "output_type": "stream",
     "text": [
      "Score is : 0.9127430213917713\n",
      "Score is : 0.4874198672907111\n",
      "Train RMSE: 2107.7959444006, Validation RMSE: 5110.041907953507\n"
     ]
    }
   ],
   "source": [
    "test_params(max_depth=10)"
   ]
  },
  {
   "cell_type": "code",
   "execution_count": 76,
   "id": "587dd707",
   "metadata": {},
   "outputs": [
    {
     "name": "stdout",
     "output_type": "stream",
     "text": [
      "Score is : 0.9999999999997536\n",
      "Score is : 0.5073681481404188\n",
      "Train RMSE: 0.00354204752621582, Validation RMSE: 5009.620430471716\n"
     ]
    }
   ],
   "source": [
    "test_params(max_depth=50)"
   ]
  },
  {
   "cell_type": "code",
   "execution_count": 77,
   "id": "861cfb81",
   "metadata": {},
   "outputs": [
    {
     "name": "stdout",
     "output_type": "stream",
     "text": [
      "Score is : 0.9999999999997531\n",
      "Score is : 0.5076203519010061\n",
      "Train RMSE: 0.0035456378470196982, Validation RMSE: 5008.337924220786\n"
     ]
    }
   ],
   "source": [
    "test_params(max_depth=100)"
   ]
  },
  {
   "cell_type": "markdown",
   "id": "f83415a4",
   "metadata": {},
   "source": [
    "n_estimators : The number of trees to be created. More trees = greater capacity of the model."
   ]
  },
  {
   "cell_type": "code",
   "execution_count": 78,
   "id": "b6b0a9b4",
   "metadata": {},
   "outputs": [
    {
     "name": "stdout",
     "output_type": "stream",
     "text": [
      "Score is : 0.40338321101228725\n",
      "Score is : 0.3859387897827956\n",
      "Train RMSE: 5511.581253533839, Validation RMSE: 5593.059112183917\n"
     ]
    }
   ],
   "source": [
    "test_params(n_estimators=10)"
   ]
  },
  {
   "cell_type": "code",
   "execution_count": 79,
   "id": "164a3997",
   "metadata": {},
   "outputs": [
    {
     "name": "stdout",
     "output_type": "stream",
     "text": [
      "Score is : 0.6259680355785013\n",
      "Score is : 0.4701038088930274\n",
      "Train RMSE: 4363.980870677824, Validation RMSE: 5195.639096574908\n"
     ]
    }
   ],
   "source": [
    "test_params(n_estimators=100)"
   ]
  },
  {
   "cell_type": "markdown",
   "id": "cbf9989b",
   "metadata": {},
   "source": [
    "learning_rate : The scaling factor to be applied to the prediction of each tree. A very high learning rate (close to 1) will lead to overfitting, and a low learning rate (close to 0) will lead to underfitting."
   ]
  },
  {
   "cell_type": "code",
   "execution_count": 80,
   "id": "a0c467f2",
   "metadata": {},
   "outputs": [
    {
     "name": "stdout",
     "output_type": "stream",
     "text": [
      "Score is : 0.45653185026624776\n",
      "Score is : 0.42348225753393953\n",
      "Train RMSE: 5260.360738214274, Validation RMSE: 5419.383889169689\n"
     ]
    }
   ],
   "source": [
    "test_params(n_estimators=500, learning_rate=0.01)"
   ]
  },
  {
   "cell_type": "code",
   "execution_count": 81,
   "id": "dc62eec0",
   "metadata": {},
   "outputs": [
    {
     "name": "stdout",
     "output_type": "stream",
     "text": [
      "Score is : 0.685277740548329\n",
      "Score is : 0.4828058617435913\n",
      "Train RMSE: 4003.061011699041, Validation RMSE: 5132.9894811186405\n"
     ]
    }
   ],
   "source": [
    "test_params(n_estimators=500, learning_rate=0.1)"
   ]
  },
  {
   "cell_type": "code",
   "execution_count": 82,
   "id": "c47ce90f",
   "metadata": {},
   "outputs": [
    {
     "name": "stdout",
     "output_type": "stream",
     "text": [
      "Score is : 0.9220168455757011\n",
      "Score is : 0.4134888385109481\n",
      "Train RMSE: 1992.640157377396, Validation RMSE: 5466.152172744805\n"
     ]
    }
   ],
   "source": [
    "test_params(n_estimators=500, learning_rate=0.5)"
   ]
  },
  {
   "cell_type": "code",
   "execution_count": 83,
   "id": "929e7d20",
   "metadata": {},
   "outputs": [
    {
     "name": "stdout",
     "output_type": "stream",
     "text": [
      "Score is : 0.8909069384766276\n",
      "Score is : 0.4700343640378767\n",
      "Train RMSE: 2356.823413602616, Validation RMSE: 5195.979539278518\n"
     ]
    }
   ],
   "source": [
    "test_params(n_estimators=1000, learning_rate=0.2)"
   ]
  },
  {
   "cell_type": "markdown",
   "id": "5a0f53cd",
   "metadata": {},
   "source": [
    "booster : Instead of using Decision Trees, XGBoost can also train a linear model for each iteration. This can be configured using booster."
   ]
  },
  {
   "cell_type": "code",
   "execution_count": 84,
   "id": "55410411",
   "metadata": {},
   "outputs": [
    {
     "name": "stdout",
     "output_type": "stream",
     "text": [
      "Score is : 0.1971620807665565\n",
      "Score is : 0.20782647728325254\n",
      "Train RMSE: 6393.555175852759, Validation RMSE: 6352.63259435215\n"
     ]
    }
   ],
   "source": [
    "test_params(booster='gblinear')"
   ]
  },
  {
   "cell_type": "markdown",
   "id": "b29a25e6",
   "metadata": {},
   "source": [
    "# Final Model"
   ]
  },
  {
   "cell_type": "code",
   "execution_count": 85,
   "id": "a024ac17",
   "metadata": {},
   "outputs": [],
   "source": [
    "def GBFinal(train_targets, test_targets):\n",
    "    model = XGBRegressor(n_jobs=-1, random_state=42, n_estimators=1000, learning_rate=0.2, max_depth=100, subsample=0.9, colsample_bytree=0.7).fit(train_inputs, train_targets)\n",
    "    test_rmse = Rmse(test_targets, model.predict(test_inputs))\n",
    "    score = model.score(test_inputs, test_targets)\n",
    "    print('Test rmse : ',test_rmse, 'Test score : ',score)"
   ]
  },
  {
   "cell_type": "code",
   "execution_count": 86,
   "id": "097b5fb3",
   "metadata": {},
   "outputs": [
    {
     "name": "stdout",
     "output_type": "stream",
     "text": [
      "Test rmse :  5340.6690847579575 Test score :  0.4351303520408304\n"
     ]
    }
   ],
   "source": [
    "#Zone 1\n",
    "GBFinal(train_targets1, test_targets1)"
   ]
  },
  {
   "cell_type": "code",
   "execution_count": 87,
   "id": "53134be8",
   "metadata": {},
   "outputs": [
    {
     "name": "stdout",
     "output_type": "stream",
     "text": [
      "Test rmse :  3906.312986100474 Test score :  0.4346243300014546\n"
     ]
    }
   ],
   "source": [
    "#Zone 2\n",
    "GBFinal(train_targets2, test_targets2)"
   ]
  },
  {
   "cell_type": "code",
   "execution_count": 88,
   "id": "19a08032",
   "metadata": {},
   "outputs": [
    {
     "name": "stdout",
     "output_type": "stream",
     "text": [
      "Test rmse :  4121.895082011073 Test score :  0.6103610890128277\n"
     ]
    }
   ],
   "source": [
    "#Zone 3\n",
    "GBFinal(train_targets3, test_targets3)"
   ]
  },
  {
   "cell_type": "code",
   "execution_count": 89,
   "id": "f2b0f3a7",
   "metadata": {},
   "outputs": [
    {
     "data": {
      "application/javascript": [
       "window.require && require([\"base/js/namespace\"],function(Jupyter){Jupyter.notebook.save_checkpoint()})"
      ],
      "text/plain": [
       "<IPython.core.display.Javascript object>"
      ]
     },
     "metadata": {},
     "output_type": "display_data"
    },
    {
     "name": "stdout",
     "output_type": "stream",
     "text": [
      "[jovian] Updating notebook \"sayedebad-777/predict-power-consumption\" on https://jovian.ai/\u001b[0m\n",
      "[jovian] Committed successfully! https://jovian.ai/sayedebad-777/predict-power-consumption\u001b[0m\n"
     ]
    },
    {
     "data": {
      "text/plain": [
       "'https://jovian.ai/sayedebad-777/predict-power-consumption'"
      ]
     },
     "execution_count": 89,
     "metadata": {},
     "output_type": "execute_result"
    }
   ],
   "source": [
    "jovian.commit()"
   ]
  },
  {
   "cell_type": "markdown",
   "id": "34d5259f",
   "metadata": {},
   "source": [
    "# Summary and Further Reading"
   ]
  },
  {
   "cell_type": "markdown",
   "id": "15431479",
   "metadata": {},
   "source": [
    "Following things are covered in above model :-\n",
    "\n",
    "1 :- Training and interpreting a gradient boosting model using XGBoost\n",
    "\n",
    "2 :- Configuring the gradient boosting model and tuning hyperparamters"
   ]
  },
  {
   "cell_type": "markdown",
   "id": "79243db6",
   "metadata": {},
   "source": [
    "Check out these resources to learn more:\n",
    "\n",
    "https://albertum.medium.com/l1-l2-regularization-in-xgboost-regression-7b2db08a59e0\n",
    "\n",
    "https://machinelearningmastery.com/evaluate-gradient-boosting-models-xgboost-python/\n",
    "\n",
    "https://xgboost.readthedocs.io/en/latest/python/python_api.html#xgboost.XGBRegressor\n",
    "\n",
    "https://xgboost.readthedocs.io/en/latest/parameter.html\n",
    "\n",
    "https://www.kaggle.com/xwxw2929/rossmann-sales-top1"
   ]
  },
  {
   "cell_type": "code",
   "execution_count": null,
   "id": "b687c36b",
   "metadata": {},
   "outputs": [],
   "source": []
  }
 ],
 "metadata": {
  "kernelspec": {
   "display_name": "Python 3 (ipykernel)",
   "language": "python",
   "name": "python3"
  },
  "language_info": {
   "codemirror_mode": {
    "name": "ipython",
    "version": 3
   },
   "file_extension": ".py",
   "mimetype": "text/x-python",
   "name": "python",
   "nbconvert_exporter": "python",
   "pygments_lexer": "ipython3",
   "version": "3.9.7"
  }
 },
 "nbformat": 4,
 "nbformat_minor": 5
}
